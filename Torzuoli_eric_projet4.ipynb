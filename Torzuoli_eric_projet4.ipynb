{
 "cells": [
  {
   "cell_type": "markdown",
   "id": "2a112bfd",
   "metadata": {},
   "source": [
    "## Importing necessary libraries"
   ]
  },
  {
   "cell_type": "code",
   "execution_count": 1,
   "id": "0eb8c6be",
   "metadata": {},
   "outputs": [],
   "source": [
    "import pandas as pd"
   ]
  },
  {
   "cell_type": "markdown",
   "id": "2043b415",
   "metadata": {},
   "source": [
    "## Loading Dataframe\n"
   ]
  },
  {
   "cell_type": "code",
   "execution_count": 2,
   "id": "6b1b31c9",
   "metadata": {},
   "outputs": [],
   "source": [
    "dispo_alimentaire = pd.read_csv(r'D:\\Elodie\\Downloads\\DAN-P4-FAO (1)\\dispo_alimentaire.csv')\n",
    "aide_alimentaire = pd.read_csv(r'D:\\Elodie\\Downloads\\DAN-P4-FAO (1)\\aide_alimentaire.csv')\n",
    "population = pd.read_csv(r'D:\\Elodie\\Downloads\\DAN-P4-FAO (1)\\population.csv')\n",
    "sous_nutrition = pd.read_csv(r'D:\\Elodie\\Downloads\\DAN-P4-FAO (1)\\sous_nutrition.csv')"
   ]
  },
  {
   "cell_type": "markdown",
   "id": "170d14ff",
   "metadata": {},
   "source": [
    "## PreProcessing"
   ]
  },
  {
   "cell_type": "code",
   "execution_count": 3,
   "id": "4b4cf52f",
   "metadata": {},
   "outputs": [],
   "source": [
    "population['Valeur'] = population['Valeur'] * 1000\n",
    "dispo_alimentaire.fillna(0)\n",
    "sous_nutrition['Valeur'] = pd.to_numeric(sous_nutrition['Valeur'], errors='coerce')\n",
    "sous_nutrition.fillna(0)\n",
    "sous_nutrition['Valeur'] = sous_nutrition['Valeur'] * 1000000"
   ]
  },
  {
   "cell_type": "markdown",
   "id": "5043d092",
   "metadata": {},
   "source": [
    "## Questions de Marc"
   ]
  },
  {
   "cell_type": "markdown",
   "id": "c9eb1573",
   "metadata": {},
   "source": [
    "### 1) la proportion de personnes en état de sous-nutrition"
   ]
  },
  {
   "cell_type": "code",
   "execution_count": 4,
   "id": "0b548480",
   "metadata": {},
   "outputs": [
    {
     "data": {
      "text/plain": [
       "'la proportion de personnes en état de sous nutrition est de 7.1 %'"
      ]
     },
     "execution_count": 4,
     "metadata": {},
     "output_type": "execute_result"
    }
   ],
   "source": [
    "pop_sous_nutrition = pd.merge(population.loc[population['Année'] == 2017], sous_nutrition.loc[sous_nutrition['Année'] == '2016-2018'], on='Zone', suffixes=('_population_totale', '_population_sous_nutrie'))\n",
    "taux_sous_nutrition = (pop_sous_nutrition['Valeur_population_sous_nutrie'].sum() / pop_sous_nutrition['Valeur_population_totale'].sum() * 100).round(2)\n",
    "f'la proportion de personnes en état de sous nutrition est de {taux_sous_nutrition} %'"
   ]
  },
  {
   "cell_type": "markdown",
   "id": "76158d16",
   "metadata": {},
   "source": [
    "### 2) le nombre théorique de personnes qui pourraient être nourries. Tu devrais pouvoir calculer ça à partir de la disponibilité alimentaire mondiale "
   ]
  },
  {
   "cell_type": "code",
   "execution_count": null,
   "id": "feb49b3c",
   "metadata": {},
   "outputs": [],
   "source": []
  },
  {
   "cell_type": "code",
   "execution_count": 5,
   "id": "d2dcc6ac",
   "metadata": {},
   "outputs": [
    {
     "data": {
      "text/plain": [
       "'le nombre theorique de personnes pouvant etre nourries est de 7690803171 personnes soit 101 % des besoins alimentaires de la planète.'"
      ]
     },
     "execution_count": 5,
     "metadata": {},
     "output_type": "execute_result"
    }
   ],
   "source": [
    "# selon le site de la FAO, un humain a besoin de 2720 Kcal jounralière\n",
    "besoin_alim_monde17 = int(2720 * 365 * pop_sous_nutrition['Valeur_population_totale'].sum())\n",
    "dispo_alimentaire_kcal = pd.merge(population.loc[population['Année'] == 2017], dispo_alimentaire.groupby([\"Zone\"]).sum(), on='Zone')\n",
    "dispo_alim_monde17 = dispo_alimentaire_kcal['Disponibilité alimentaire (Kcal/personne/jour)'] * dispo_alimentaire_kcal['Valeur'] * 365\n",
    "f'le nombre theorique de personnes pouvant etre nourries est de {int(dispo_alim_monde17.sum()/(2720*365))} personnes soit {int(dispo_alim_monde17.sum()/besoin_alim_monde17*100)} % des besoins alimentaires de la planète.'"
   ]
  },
  {
   "cell_type": "markdown",
   "id": "ea1fd6da",
   "metadata": {},
   "source": [
    "### 3) idem pour la disponibilité alimentaire des produits végétaux"
   ]
  },
  {
   "cell_type": "code",
   "execution_count": 6,
   "id": "d2f88114",
   "metadata": {},
   "outputs": [
    {
     "data": {
      "text/plain": [
       "'le nombre theorique de personnes pouvant etre nourries est de 6345869195 personnes soit 84 % des besoins alimentaires de la planète.'"
      ]
     },
     "execution_count": 6,
     "metadata": {},
     "output_type": "execute_result"
    }
   ],
   "source": [
    "veggie = dispo_alimentaire.loc[dispo_alimentaire['Origine'] == \"vegetale\"]\n",
    "dispo_veg17 = pd.merge(population.loc[population['Année'] == 2017], veggie.groupby([\"Zone\"]).sum(), on='Zone')\n",
    "dispo_veg_kcal = (dispo_veg17['Disponibilité alimentaire (Kcal/personne/jour)']) * dispo_veg17['Valeur'] * 365\n",
    "f'le nombre theorique de personnes pouvant etre nourries est de {int(dispo_veg_kcal.sum()/(2720*365))} personnes soit {int(dispo_veg_kcal.sum()/besoin_alim_monde17*100)} % des besoins alimentaires de la planète.'"
   ]
  },
  {
   "cell_type": "markdown",
   "id": "1c7e0857",
   "metadata": {},
   "source": [
    "### 4) l’utilisation de la disponibilité intérieure, en particulier la part qui est attribuée à l’alimentation animale, celle qui est perdue et celle qui est concrètement utilisée pour l'alimentation humaine"
   ]
  },
  {
   "cell_type": "code",
   "execution_count": 7,
   "id": "47e0c0c8",
   "metadata": {},
   "outputs": [
    {
     "data": {
      "text/plain": [
       "'la part de la disponibilité intérieure utilisé pour l alimentation animale est 13.24 %, la part perdue est de 4.61 % et la part utilisée pour l alimentation humaine est 49.51 %'"
      ]
     },
     "execution_count": 7,
     "metadata": {},
     "output_type": "execute_result"
    }
   ],
   "source": [
    "#Disponibilité intérieure = Semences + Pertes + Nourriture + Aliments pour animaux + Traitement + Autres utilisations\n",
    "#Disponibilité intérieure = Production + Importations - Exportations + Variation de stock\n",
    "\n",
    "dispo_interieur = dispo_alimentaire[\"Disponibilité intérieure\"].sum() \n",
    "part_animal = (dispo_alimentaire[('Aliments pour animaux')].sum()   / dispo_interieur * 100).round(2)\n",
    "part_pertes = (dispo_alimentaire[('Pertes')].sum()   / dispo_interieur * 100).round(2)\n",
    "part_humaine = (dispo_alimentaire[('Nourriture')].sum()   / dispo_interieur * 100).round(2)\n",
    "f'la part de la disponibilité intérieure utilisé pour l alimentation animale est {part_animal} %, la part perdue est de {part_pertes} % et la part utilisée pour l alimentation humaine est {part_humaine} %'"
   ]
  },
  {
   "cell_type": "markdown",
   "id": "86d2eda7",
   "metadata": {},
   "source": [
    "### Lors de mes recherches, j’ai découvert des chiffres intéressants sur l’utilisation des céréales, notamment la répartition entre l’alimentation humaine (colonne Nourriture) et l’alimentation pour animaux. "
   ]
  },
  {
   "cell_type": "code",
   "execution_count": 8,
   "id": "bfd04ffd",
   "metadata": {},
   "outputs": [
    {
     "data": {
      "text/plain": [
       "'La proportion de l alimentation humaine est de 18.13 % et la proportion de l alimentation animale est de 69.34 %'"
      ]
     },
     "execution_count": 8,
     "metadata": {},
     "output_type": "execute_result"
    }
   ],
   "source": [
    "cereales = [\"Blé et produits\", \"Riz et produits\", \"Orge et produits\", \"Maïs et produits\", \"Seigle et produits\", \"Avoine\", \"Millet et produits\", \"Sorgho et produits\", \"Céréales, Autres\"]\n",
    "dispo_cereale = dispo_alimentaire.loc[dispo_alimentaire['Produit'].isin(cereales)] \n",
    "dispo_cereale_interieur = dispo_cereale[\"Disponibilité intérieure\"].sum() \n",
    "part_cereale_animal = (dispo_cereale[('Aliments pour animaux')].sum()   / dispo_cereale_interieur * 100).round(2)\n",
    "part_cereale_humaine = (dispo_cereale[('Nourriture')].sum()   / dispo_cereale_interieur * 100).round(2)\n",
    "f'La proportion de l alimentation humaine est de {part_cereale_humaine} % et la proportion de l alimentation animale est de {part_cereale_animal} %'"
   ]
  },
  {
   "cell_type": "markdown",
   "id": "e602562e",
   "metadata": {},
   "source": [
    "### je me souviens d’un exemple étonnant d’utilisation du manioc par la Thaïlande aux égards de la proportion de personnes en sous-nutrition. Il serait intéressant d’aller à nouveau y jeter un coup d’œil, de mémoire ça concernait l’exportation par rapport à la production."
   ]
  },
  {
   "cell_type": "code",
   "execution_count": 9,
   "id": "8868ffba",
   "metadata": {},
   "outputs": [
    {
     "data": {
      "text/plain": [
       "'La proportion de la population Thailandaise en état de sous nutrition est de 8 %.'"
      ]
     },
     "execution_count": 9,
     "metadata": {},
     "output_type": "execute_result"
    }
   ],
   "source": [
    "thai = pop_sous_nutrition.loc[pop_sous_nutrition['Zone'] == 'Thaïlande']\n",
    "thai_propor = int(thai['Valeur_population_sous_nutrie'] / thai['Valeur_population_totale'] * 100)\n",
    "f'La proportion de la population Thailandaise en état de sous nutrition est de {thai_propor} %.'"
   ]
  },
  {
   "cell_type": "code",
   "execution_count": 10,
   "id": "73f8f062",
   "metadata": {},
   "outputs": [
    {
     "data": {
      "text/html": [
       "<div>\n",
       "<style scoped>\n",
       "    .dataframe tbody tr th:only-of-type {\n",
       "        vertical-align: middle;\n",
       "    }\n",
       "\n",
       "    .dataframe tbody tr th {\n",
       "        vertical-align: top;\n",
       "    }\n",
       "\n",
       "    .dataframe thead th {\n",
       "        text-align: right;\n",
       "    }\n",
       "</style>\n",
       "<table border=\"1\" class=\"dataframe\">\n",
       "  <thead>\n",
       "    <tr style=\"text-align: right;\">\n",
       "      <th></th>\n",
       "      <th>Zone</th>\n",
       "      <th>Exportations - Quantité</th>\n",
       "      <th>Production</th>\n",
       "    </tr>\n",
       "  </thead>\n",
       "  <tbody>\n",
       "    <tr>\n",
       "      <th>13809</th>\n",
       "      <td>Thaïlande</td>\n",
       "      <td>25214.0</td>\n",
       "      <td>30228.0</td>\n",
       "    </tr>\n",
       "  </tbody>\n",
       "</table>\n",
       "</div>"
      ],
      "text/plain": [
       "            Zone  Exportations - Quantité  Production\n",
       "13809  Thaïlande                  25214.0     30228.0"
      ]
     },
     "execution_count": 10,
     "metadata": {},
     "output_type": "execute_result"
    }
   ],
   "source": [
    "thai_alim = dispo_alimentaire.loc[dispo_alimentaire['Zone'] == 'Thaïlande'] \n",
    "manioc_thailande = thai_alim.loc[thai_alim['Produit'] == 'Manioc'] \n",
    "manioc_thailande[['Zone','Exportations - Quantité','Production']]"
   ]
  },
  {
   "cell_type": "code",
   "execution_count": 11,
   "id": "b3dd7c1c",
   "metadata": {},
   "outputs": [
    {
     "data": {
      "text/plain": [
       "' 83 % de la production thailandaise de manioc est exportée.'"
      ]
     },
     "execution_count": 11,
     "metadata": {},
     "output_type": "execute_result"
    }
   ],
   "source": [
    "prod_export_thai = int(manioc_thailande['Exportations - Quantité'] / manioc_thailande['Production'] * 100)\n",
    "f' {prod_export_thai} % de la production thailandaise de manioc est exportée.'"
   ]
  },
  {
   "cell_type": "markdown",
   "id": "fa215cf6",
   "metadata": {},
   "source": [
    "## Questions de Mélanie"
   ]
  },
  {
   "cell_type": "markdown",
   "id": "546ed8ab",
   "metadata": {},
   "source": [
    "### 1) j’aimerais que tu puisses nous donner les pays pour lesquels la proportion de personnes sous-alimentées est la plus forte en 2017"
   ]
  },
  {
   "cell_type": "code",
   "execution_count": 12,
   "id": "c39fe422",
   "metadata": {},
   "outputs": [
    {
     "data": {
      "text/html": [
       "<div>\n",
       "<style scoped>\n",
       "    .dataframe tbody tr th:only-of-type {\n",
       "        vertical-align: middle;\n",
       "    }\n",
       "\n",
       "    .dataframe tbody tr th {\n",
       "        vertical-align: top;\n",
       "    }\n",
       "\n",
       "    .dataframe thead th {\n",
       "        text-align: right;\n",
       "    }\n",
       "</style>\n",
       "<table border=\"1\" class=\"dataframe\">\n",
       "  <thead>\n",
       "    <tr style=\"text-align: right;\">\n",
       "      <th></th>\n",
       "      <th>Zone</th>\n",
       "      <th>prop_sous_nutri</th>\n",
       "    </tr>\n",
       "  </thead>\n",
       "  <tbody>\n",
       "    <tr>\n",
       "      <th>78</th>\n",
       "      <td>Haïti</td>\n",
       "      <td>48.26</td>\n",
       "    </tr>\n",
       "    <tr>\n",
       "      <th>157</th>\n",
       "      <td>République populaire démocratique de Corée</td>\n",
       "      <td>47.19</td>\n",
       "    </tr>\n",
       "    <tr>\n",
       "      <th>108</th>\n",
       "      <td>Madagascar</td>\n",
       "      <td>41.06</td>\n",
       "    </tr>\n",
       "    <tr>\n",
       "      <th>103</th>\n",
       "      <td>Libéria</td>\n",
       "      <td>38.28</td>\n",
       "    </tr>\n",
       "    <tr>\n",
       "      <th>100</th>\n",
       "      <td>Lesotho</td>\n",
       "      <td>38.25</td>\n",
       "    </tr>\n",
       "    <tr>\n",
       "      <th>183</th>\n",
       "      <td>Tchad</td>\n",
       "      <td>37.96</td>\n",
       "    </tr>\n",
       "    <tr>\n",
       "      <th>161</th>\n",
       "      <td>Rwanda</td>\n",
       "      <td>35.06</td>\n",
       "    </tr>\n",
       "    <tr>\n",
       "      <th>121</th>\n",
       "      <td>Mozambique</td>\n",
       "      <td>32.81</td>\n",
       "    </tr>\n",
       "    <tr>\n",
       "      <th>186</th>\n",
       "      <td>Timor-Leste</td>\n",
       "      <td>32.17</td>\n",
       "    </tr>\n",
       "    <tr>\n",
       "      <th>0</th>\n",
       "      <td>Afghanistan</td>\n",
       "      <td>28.93</td>\n",
       "    </tr>\n",
       "  </tbody>\n",
       "</table>\n",
       "</div>"
      ],
      "text/plain": [
       "                                           Zone  prop_sous_nutri\n",
       "78                                        Haïti            48.26\n",
       "157  République populaire démocratique de Corée            47.19\n",
       "108                                  Madagascar            41.06\n",
       "103                                     Libéria            38.28\n",
       "100                                     Lesotho            38.25\n",
       "183                                       Tchad            37.96\n",
       "161                                      Rwanda            35.06\n",
       "121                                  Mozambique            32.81\n",
       "186                                 Timor-Leste            32.17\n",
       "0                                   Afghanistan            28.93"
      ]
     },
     "execution_count": 12,
     "metadata": {},
     "output_type": "execute_result"
    }
   ],
   "source": [
    "pop_sous_nutrition['prop_sous_nutri'] = pop_sous_nutrition['Valeur_population_sous_nutrie'] / pop_sous_nutrition['Valeur_population_totale'] * 100\n",
    "(pop_sous_nutrition[['Zone', 'prop_sous_nutri']].sort_values(['prop_sous_nutri'], ascending=[False])).head(10).round(2)"
   ]
  },
  {
   "cell_type": "markdown",
   "id": "600c5afc",
   "metadata": {},
   "source": [
    "### 2) ceux qui ont le plus bénéficié d’aide depuis 2013"
   ]
  },
  {
   "cell_type": "code",
   "execution_count": 13,
   "id": "86638772",
   "metadata": {},
   "outputs": [
    {
     "data": {
      "text/html": [
       "<div>\n",
       "<style scoped>\n",
       "    .dataframe tbody tr th:only-of-type {\n",
       "        vertical-align: middle;\n",
       "    }\n",
       "\n",
       "    .dataframe tbody tr th {\n",
       "        vertical-align: top;\n",
       "    }\n",
       "\n",
       "    .dataframe thead th {\n",
       "        text-align: right;\n",
       "    }\n",
       "</style>\n",
       "<table border=\"1\" class=\"dataframe\">\n",
       "  <thead>\n",
       "    <tr style=\"text-align: right;\">\n",
       "      <th></th>\n",
       "      <th>Valeur</th>\n",
       "    </tr>\n",
       "    <tr>\n",
       "      <th>Pays bénéficiaire</th>\n",
       "      <th></th>\n",
       "    </tr>\n",
       "  </thead>\n",
       "  <tbody>\n",
       "    <tr>\n",
       "      <th>République arabe syrienne</th>\n",
       "      <td>1858943</td>\n",
       "    </tr>\n",
       "    <tr>\n",
       "      <th>Éthiopie</th>\n",
       "      <td>1381294</td>\n",
       "    </tr>\n",
       "    <tr>\n",
       "      <th>Yémen</th>\n",
       "      <td>1206484</td>\n",
       "    </tr>\n",
       "    <tr>\n",
       "      <th>Soudan du Sud</th>\n",
       "      <td>695248</td>\n",
       "    </tr>\n",
       "    <tr>\n",
       "      <th>Soudan</th>\n",
       "      <td>669784</td>\n",
       "    </tr>\n",
       "    <tr>\n",
       "      <th>Kenya</th>\n",
       "      <td>552836</td>\n",
       "    </tr>\n",
       "    <tr>\n",
       "      <th>Bangladesh</th>\n",
       "      <td>348188</td>\n",
       "    </tr>\n",
       "    <tr>\n",
       "      <th>Somalie</th>\n",
       "      <td>292678</td>\n",
       "    </tr>\n",
       "    <tr>\n",
       "      <th>République démocratique du Congo</th>\n",
       "      <td>288502</td>\n",
       "    </tr>\n",
       "    <tr>\n",
       "      <th>Niger</th>\n",
       "      <td>276344</td>\n",
       "    </tr>\n",
       "  </tbody>\n",
       "</table>\n",
       "</div>"
      ],
      "text/plain": [
       "                                   Valeur\n",
       "Pays bénéficiaire                        \n",
       "République arabe syrienne         1858943\n",
       "Éthiopie                          1381294\n",
       "Yémen                             1206484\n",
       "Soudan du Sud                      695248\n",
       "Soudan                             669784\n",
       "Kenya                              552836\n",
       "Bangladesh                         348188\n",
       "Somalie                            292678\n",
       "République démocratique du Congo   288502\n",
       "Niger                              276344"
      ]
     },
     "execution_count": 13,
     "metadata": {},
     "output_type": "execute_result"
    }
   ],
   "source": [
    "benef_aide = aide_alimentaire.groupby([\"Pays bénéficiaire\"]).sum()\n",
    "benef_aide[['Valeur']].sort_values(['Valeur'], ascending=[False]).head(10)"
   ]
  },
  {
   "cell_type": "markdown",
   "id": "f8d2a82c",
   "metadata": {},
   "source": [
    "### 3) ceux ayant le plus/le moins de disponibilité/habitant"
   ]
  },
  {
   "cell_type": "code",
   "execution_count": 14,
   "id": "227dc7a7",
   "metadata": {},
   "outputs": [
    {
     "data": {
      "text/html": [
       "<div>\n",
       "<style scoped>\n",
       "    .dataframe tbody tr th:only-of-type {\n",
       "        vertical-align: middle;\n",
       "    }\n",
       "\n",
       "    .dataframe tbody tr th {\n",
       "        vertical-align: top;\n",
       "    }\n",
       "\n",
       "    .dataframe thead th {\n",
       "        text-align: right;\n",
       "    }\n",
       "</style>\n",
       "<table border=\"1\" class=\"dataframe\">\n",
       "  <thead>\n",
       "    <tr style=\"text-align: right;\">\n",
       "      <th></th>\n",
       "      <th>Disponibilité alimentaire (Kcal/personne/jour)</th>\n",
       "    </tr>\n",
       "    <tr>\n",
       "      <th>Zone</th>\n",
       "      <th></th>\n",
       "    </tr>\n",
       "  </thead>\n",
       "  <tbody>\n",
       "    <tr>\n",
       "      <th>Autriche</th>\n",
       "      <td>3770.0</td>\n",
       "    </tr>\n",
       "    <tr>\n",
       "      <th>Belgique</th>\n",
       "      <td>3737.0</td>\n",
       "    </tr>\n",
       "    <tr>\n",
       "      <th>Turquie</th>\n",
       "      <td>3708.0</td>\n",
       "    </tr>\n",
       "    <tr>\n",
       "      <th>États-Unis d'Amérique</th>\n",
       "      <td>3682.0</td>\n",
       "    </tr>\n",
       "    <tr>\n",
       "      <th>Israël</th>\n",
       "      <td>3610.0</td>\n",
       "    </tr>\n",
       "    <tr>\n",
       "      <th>Irlande</th>\n",
       "      <td>3602.0</td>\n",
       "    </tr>\n",
       "    <tr>\n",
       "      <th>Italie</th>\n",
       "      <td>3578.0</td>\n",
       "    </tr>\n",
       "    <tr>\n",
       "      <th>Luxembourg</th>\n",
       "      <td>3540.0</td>\n",
       "    </tr>\n",
       "    <tr>\n",
       "      <th>Égypte</th>\n",
       "      <td>3518.0</td>\n",
       "    </tr>\n",
       "    <tr>\n",
       "      <th>Allemagne</th>\n",
       "      <td>3503.0</td>\n",
       "    </tr>\n",
       "  </tbody>\n",
       "</table>\n",
       "</div>"
      ],
      "text/plain": [
       "                       Disponibilité alimentaire (Kcal/personne/jour)\n",
       "Zone                                                                 \n",
       "Autriche                                                       3770.0\n",
       "Belgique                                                       3737.0\n",
       "Turquie                                                        3708.0\n",
       "États-Unis d'Amérique                                          3682.0\n",
       "Israël                                                         3610.0\n",
       "Irlande                                                        3602.0\n",
       "Italie                                                         3578.0\n",
       "Luxembourg                                                     3540.0\n",
       "Égypte                                                         3518.0\n",
       "Allemagne                                                      3503.0"
      ]
     },
     "execution_count": 14,
     "metadata": {},
     "output_type": "execute_result"
    }
   ],
   "source": [
    "dispo_habitant = dispo_alimentaire.groupby([\"Zone\"]).sum()\n",
    "dispo_habitant[['Disponibilité alimentaire (Kcal/personne/jour)']].sort_values(['Disponibilité alimentaire (Kcal/personne/jour)'], ascending=[False]).head(10)"
   ]
  },
  {
   "cell_type": "code",
   "execution_count": 15,
   "id": "52b76b09",
   "metadata": {},
   "outputs": [
    {
     "data": {
      "text/html": [
       "<div>\n",
       "<style scoped>\n",
       "    .dataframe tbody tr th:only-of-type {\n",
       "        vertical-align: middle;\n",
       "    }\n",
       "\n",
       "    .dataframe tbody tr th {\n",
       "        vertical-align: top;\n",
       "    }\n",
       "\n",
       "    .dataframe thead th {\n",
       "        text-align: right;\n",
       "    }\n",
       "</style>\n",
       "<table border=\"1\" class=\"dataframe\">\n",
       "  <thead>\n",
       "    <tr style=\"text-align: right;\">\n",
       "      <th></th>\n",
       "      <th>Disponibilité alimentaire (Kcal/personne/jour)</th>\n",
       "    </tr>\n",
       "    <tr>\n",
       "      <th>Zone</th>\n",
       "      <th></th>\n",
       "    </tr>\n",
       "  </thead>\n",
       "  <tbody>\n",
       "    <tr>\n",
       "      <th>République centrafricaine</th>\n",
       "      <td>1879.0</td>\n",
       "    </tr>\n",
       "    <tr>\n",
       "      <th>Zambie</th>\n",
       "      <td>1924.0</td>\n",
       "    </tr>\n",
       "    <tr>\n",
       "      <th>Madagascar</th>\n",
       "      <td>2056.0</td>\n",
       "    </tr>\n",
       "    <tr>\n",
       "      <th>Afghanistan</th>\n",
       "      <td>2087.0</td>\n",
       "    </tr>\n",
       "    <tr>\n",
       "      <th>Haïti</th>\n",
       "      <td>2089.0</td>\n",
       "    </tr>\n",
       "    <tr>\n",
       "      <th>République populaire démocratique de Corée</th>\n",
       "      <td>2093.0</td>\n",
       "    </tr>\n",
       "    <tr>\n",
       "      <th>Tchad</th>\n",
       "      <td>2109.0</td>\n",
       "    </tr>\n",
       "    <tr>\n",
       "      <th>Zimbabwe</th>\n",
       "      <td>2113.0</td>\n",
       "    </tr>\n",
       "    <tr>\n",
       "      <th>Ouganda</th>\n",
       "      <td>2126.0</td>\n",
       "    </tr>\n",
       "    <tr>\n",
       "      <th>Timor-Leste</th>\n",
       "      <td>2129.0</td>\n",
       "    </tr>\n",
       "  </tbody>\n",
       "</table>\n",
       "</div>"
      ],
      "text/plain": [
       "                                            Disponibilité alimentaire (Kcal/personne/jour)\n",
       "Zone                                                                                      \n",
       "République centrafricaine                                                           1879.0\n",
       "Zambie                                                                              1924.0\n",
       "Madagascar                                                                          2056.0\n",
       "Afghanistan                                                                         2087.0\n",
       "Haïti                                                                               2089.0\n",
       "République populaire démocratique de Corée                                          2093.0\n",
       "Tchad                                                                               2109.0\n",
       "Zimbabwe                                                                            2113.0\n",
       "Ouganda                                                                             2126.0\n",
       "Timor-Leste                                                                         2129.0"
      ]
     },
     "execution_count": 15,
     "metadata": {},
     "output_type": "execute_result"
    }
   ],
   "source": [
    "dispo_habitant[['Disponibilité alimentaire (Kcal/personne/jour)']].sort_values(['Disponibilité alimentaire (Kcal/personne/jour)']).head(10)"
   ]
  },
  {
   "cell_type": "code",
   "execution_count": null,
   "id": "3b57e622",
   "metadata": {},
   "outputs": [],
   "source": []
  },
  {
   "cell_type": "code",
   "execution_count": null,
   "id": "af7f4448",
   "metadata": {},
   "outputs": [],
   "source": []
  },
  {
   "cell_type": "code",
   "execution_count": null,
   "id": "7e0bcb59",
   "metadata": {},
   "outputs": [],
   "source": []
  },
  {
   "cell_type": "code",
   "execution_count": null,
   "id": "f4072ce0",
   "metadata": {},
   "outputs": [],
   "source": []
  },
  {
   "cell_type": "code",
   "execution_count": null,
   "id": "bb43dcaa",
   "metadata": {},
   "outputs": [],
   "source": []
  },
  {
   "cell_type": "code",
   "execution_count": null,
   "id": "1460a4ca",
   "metadata": {},
   "outputs": [],
   "source": []
  },
  {
   "cell_type": "code",
   "execution_count": null,
   "id": "a0212fe4",
   "metadata": {},
   "outputs": [],
   "source": []
  },
  {
   "cell_type": "code",
   "execution_count": null,
   "id": "4496cd17",
   "metadata": {},
   "outputs": [],
   "source": []
  },
  {
   "cell_type": "code",
   "execution_count": null,
   "id": "fd2b3408",
   "metadata": {},
   "outputs": [],
   "source": []
  }
 ],
 "metadata": {
  "kernelspec": {
   "display_name": "Python 3 (ipykernel)",
   "language": "python",
   "name": "python3"
  },
  "language_info": {
   "codemirror_mode": {
    "name": "ipython",
    "version": 3
   },
   "file_extension": ".py",
   "mimetype": "text/x-python",
   "name": "python",
   "nbconvert_exporter": "python",
   "pygments_lexer": "ipython3",
   "version": "3.9.7"
  }
 },
 "nbformat": 4,
 "nbformat_minor": 5
}
